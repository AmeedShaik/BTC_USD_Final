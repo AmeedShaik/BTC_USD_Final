{
  "nbformat": 4,
  "nbformat_minor": 0,
  "metadata": {
    "colab": {
      "provenance": [],
      "authorship_tag": "ABX9TyOzesnsJdbxZoydDav3DM7a",
      "include_colab_link": true
    },
    "kernelspec": {
      "name": "python3",
      "display_name": "Python 3"
    },
    "language_info": {
      "name": "python"
    }
  },
  "cells": [
    {
      "cell_type": "markdown",
      "metadata": {
        "id": "view-in-github",
        "colab_type": "text"
      },
      "source": [
        "<a href=\"https://colab.research.google.com/github/AmeedShaik/BTC_USD_Final/blob/main/BTC_USD_Final.ipynb\" target=\"_parent\"><img src=\"https://colab.research.google.com/assets/colab-badge.svg\" alt=\"Open In Colab\"/></a>"
      ]
    },
    {
      "cell_type": "code",
      "source": [
        "!pip install -q streamlit yfinance plotly pandas numpy pyngrok\n",
        "\n",
        "# --- Save Streamlit BTC App as btc_streamlit.py ---\n",
        "btc_code = \"\"\"\\\n",
        "import streamlit as st\n",
        "import yfinance as yf\n",
        "import pandas as pd\n",
        "from plotly.subplots import make_subplots\n",
        "import plotly.graph_objects as go\n",
        "import datetime\n",
        "\n",
        "st.set_page_config(page_title=\"BTC-USD Streamlit Viewer\", layout=\"wide\")\n",
        "\n",
        "st.title(\"BTC-USD — Interactive Viewer\")\n",
        "st.write(\"Candlesticks + EMA20/50 + RSI(14) + Volume\")\n",
        "\n",
        "# Sidebar\n",
        "tf = st.sidebar.selectbox(\"Timeframe\", [\"15m\",\"1H\",\"4H\",\"1D\"], index=1)\n",
        "if tf in [\"15m\",\"1H\",\"4H\"]:\n",
        "    period = st.sidebar.selectbox(\"Intraday period\", [\"7d\",\"30d\",\"60d\",\"90d\"], index=1)\n",
        "else:\n",
        "    start_date = st.sidebar.date_input(\"Start date\", datetime.date(2024,1,1))\n",
        "    end_date = st.sidebar.date_input(\"End date\", datetime.date.today())\n",
        "\n",
        "# Data fetch\n",
        "def fetch_data(tf, period=None, start=None, end=None):\n",
        "    mapping = {\"15m\":\"15m\",\"1H\":\"60m\",\"4H\":\"60m\",\"1D\":\"1d\"}\n",
        "    interval = mapping[tf]\n",
        "    if tf==\"1D\":\n",
        "        df = yf.download(\"BTC-USD\", start=start, end=end, interval=interval, progress=False)\n",
        "    else:\n",
        "        df = yf.download(\"BTC-USD\", period=period, interval=interval, progress=False)\n",
        "    if tf==\"4H\" and not df.empty:\n",
        "        df = df.resample(\"4H\").agg({\"Open\":\"first\",\"High\":\"max\",\"Low\":\"min\",\"Close\":\"last\",\"Volume\":\"sum\"})\n",
        "    return df\n",
        "\n",
        "df = pd.DataFrame()\n",
        "if tf==\"1D\":\n",
        "    df = fetch_data(tf, start=start_date, end=end_date)\n",
        "else:\n",
        "    df = fetch_data(tf, period=period)\n",
        "\n",
        "if df.empty:\n",
        "    st.error(\"No data fetched\")\n",
        "else:\n",
        "    df[\"EMA20\"] = df[\"Close\"].ewm(span=20).mean()\n",
        "    df[\"EMA50\"] = df[\"Close\"].ewm(span=50).mean()\n",
        "    delta = df[\"Close\"].diff()\n",
        "    gain = delta.clip(lower=0).rolling(14).mean()\n",
        "    loss = -delta.clip(upper=0).rolling(14).mean()\n",
        "    rs = gain / loss\n",
        "    df[\"RSI\"] = 100 - (100/(1+rs))\n",
        "\n",
        "    rows = 3\n",
        "    fig = make_subplots(rows=rows, cols=1, shared_xaxes=True,\n",
        "                        row_heights=[0.6,0.2,0.2], vertical_spacing=0.02,\n",
        "                        specs=[[{\"type\":\"candlestick\"}],[{\"type\":\"bar\"}],[{\"type\":\"scatter\"}]])\n",
        "\n",
        "    fig.add_trace(go.Candlestick(x=df.index, open=df[\"Open\"], high=df[\"High\"],\n",
        "                                 low=df[\"Low\"], close=df[\"Close\"], name=\"Price\"), row=1, col=1)\n",
        "    fig.add_trace(go.Scatter(x=df.index, y=df[\"EMA20\"], name=\"EMA20\"), row=1, col=1)\n",
        "    fig.add_trace(go.Scatter(x=df.index, y=df[\"EMA50\"], name=\"EMA50\"), row=1, col=1)\n",
        "\n",
        "    fig.add_trace(go.Bar(x=df.index, y=df[\"Volume\"], name=\"Volume\"), row=2, col=1)\n",
        "\n",
        "    fig.add_trace(go.Scatter(x=df.index, y=df[\"RSI\"], name=\"RSI\"), row=3, col=1)\n",
        "    fig.add_hline(y=70, line_dash=\"dash\", row=3, col=1)\n",
        "    fig.add_hline(y=30, line_dash=\"dash\", row=3, col=1)\n",
        "\n",
        "    fig.update_layout(height=800, title=f\"BTC-USD {tf}\")\n",
        "    st.plotly_chart(fig, use_container_width=True)\n",
        "\"\"\"\n",
        "\n",
        "with open(\"btc_streamlit.py\", \"w\") as f:\n",
        "    f.write(btc_code)\n",
        "\n",
        "# --- Run Streamlit with ngrok to get public URL ---\n",
        "from pyngrok import ngrok\n",
        "public_url = ngrok.connect(8501)\n",
        "print(\"Click this link to open the Streamlit app:\", public_url)\n",
        "!streamlit run btc_streamlit.py --server.port 8501\n"
      ],
      "metadata": {
        "colab": {
          "base_uri": "https://localhost:8080/"
        },
        "id": "RLGSjvmC7C1f",
        "outputId": "edbd01a1-227c-4777-8b6a-1ac754e00e8b"
      },
      "execution_count": null,
      "outputs": [
        {
          "output_type": "stream",
          "name": "stdout",
          "text": [
            "Click this link to open the Streamlit app: NgrokTunnel: \"https://128689352885.ngrok-free.app\" -> \"http://localhost:8501\"\n",
            "\n",
            "Collecting usage statistics. To deactivate, set browser.gatherUsageStats to false.\n",
            "\u001b[0m\n",
            "\u001b[0m\n",
            "\u001b[34m\u001b[1m  You can now view your Streamlit app in your browser.\u001b[0m\n",
            "\u001b[0m\n",
            "\u001b[34m  Local URL: \u001b[0m\u001b[1mhttp://localhost:8501\u001b[0m\n",
            "\u001b[34m  Network URL: \u001b[0m\u001b[1mhttp://172.28.0.12:8501\u001b[0m\n",
            "\u001b[34m  External URL: \u001b[0m\u001b[1mhttp://34.148.201.168:8501\u001b[0m\n",
            "\u001b[0m\n",
            "/content/btc_streamlit.py:28: FutureWarning: YF.download() has changed argument auto_adjust default to True\n",
            "  df = yf.download(\"BTC-USD\", period=period, interval=interval, progress=False)\n",
            "/content/btc_streamlit.py:28: FutureWarning:\n",
            "\n",
            "YF.download() has changed argument auto_adjust default to True\n",
            "\n"
          ]
        }
      ]
    }
  ]
}